{
  "nbformat": 4,
  "nbformat_minor": 0,
  "metadata": {
    "colab": {
      "name": "ArteMaisComp.ipynb",
      "private_outputs": true,
      "provenance": [],
      "collapsed_sections": [],
      "include_colab_link": true
    },
    "kernelspec": {
      "name": "python3",
      "display_name": "Python 3"
    },
    "language_info": {
      "name": "python"
    },
    "accelerator": "GPU"
  },
  "cells": [
    {
      "cell_type": "markdown",
      "metadata": {
        "id": "view-in-github",
        "colab_type": "text"
      },
      "source": [
        "<a href=\"https://colab.research.google.com/github/KinsleyDavis/Novo/blob/main/ArteMaisComp.ipynb\" target=\"_parent\"><img src=\"https://colab.research.google.com/assets/colab-badge.svg\" alt=\"Open In Colab\"/></a>"
      ]
    },
    {
      "cell_type": "code",
      "metadata": {
        "id": "qAOd5t2qP1eZ",
        "cellView": "form"
      },
      "source": [
        "#@title Clique no Play e após em \"Escolher Arquivo\" para escolher sua imagem a ser estilizada  \n",
        "import ipywidgets as widgets\n",
        "from IPython.display import clear_output\n",
        "import os\n",
        "import matplotlib.pyplot as plt\n",
        "!pip install chainer &> /dev/null\n",
        "!pip install cupy-cuda101 &> /dev/null\n",
        " \n",
        "!git clone https://github.com/artemaiscomp/chainer-fast-neuralstyle &> /dev/null\n",
        "from google.colab import files\n",
        "content_img = files.upload() \n",
        " \n",
        "CONTENT_IMAGE_FN = list(content_img)[0]\n",
        "CONTENT_IMAGE_FN_temp = CONTENT_IMAGE_FN.strip().replace(\" \", \"_\")\n",
        " \n",
        "if CONTENT_IMAGE_FN != CONTENT_IMAGE_FN_temp:\n",
        "    os.rename(CONTENT_IMAGE_FN, CONTENT_IMAGE_FN_temp)\n",
        "    CONTENT_IMAGE_FN = CONTENT_IMAGE_FN_temp\n",
        "  \n",
        "  #print(\"Nome do arquivo da imagem :\", CONTENT_IMAGE_FN)\n",
        "%matplotlib inline\n",
        " \n",
        " \n",
        "fig = plt.figure(figsize=(10, 10)) \n",
        "img = plt.imread(CONTENT_IMAGE_FN) \n",
        "plt.axis('off')\n",
        "##plt.title('Content image')\n",
        "plt.imshow(img)"
      ],
      "execution_count": null,
      "outputs": []
    },
    {
      "cell_type": "code",
      "metadata": {
        "id": "p9p-LAAqVsFw"
      },
      "source": [
        "#@title Selecione a arte a ser aplicada.\n",
        "import os, ipywidgets as widgets\n",
        "from IPython.display import clear_output\n",
        "model_files = [f for f in os.listdir('/content/chainer-fast-neuralstyle/models') if f.endswith('.model')]\n",
        "model=widgets.Dropdown(\n",
        "options=model_files,\n",
        "value='hokusai.model',\n",
        "description='Modelo:',\n",
        "disabled=False,\n",
        ")\n",
        "model"
      ],
      "execution_count": null,
      "outputs": []
    },
    {
      "cell_type": "code",
      "metadata": {
        "id": "hFRk-GJhDoS6",
        "cellView": "form"
      },
      "source": [
        "#@title Clique no botão Play para converter a imagem com o estilo escolhido.\n",
        "\n",
        "#button = widgets.Button(description='OK')\n",
        "!pip install chainer &> /dev/null\n",
        "!pip install cupy-cuda101==7.7.0 &> /dev/null\n",
        "from IPython.display import clear_output\n",
        "clear_output()         \n",
        "!python chainer-fast-neuralstyle/generate.py $CONTENT_IMAGE_FN  unique -m chainer-fast-neuralstyle/models/$model.value -o output.jpg   --gpu 0 \n",
        "fig = plt.figure(figsize=(10, 10))\n",
        "img = plt.imread('output.jpg')\n",
        "plt.axis('off')          \n",
        "plt.imshow(img)\n",
        "files.download('output.jpg')\n",
        "\n",
        "\n",
        "#clear_output()  \n",
        "#out = widgets.Output()\n",
        "#def on_button_clicked(_):\n",
        "      # \"linkar funcão com saída\"\n",
        "#      with out: \n",
        "#          from IPython.display import clear_output\n",
        "#          clear_output()         \n",
        "#          !python chainer-fast-neuralstyle/generate.py $CONTENT_IMAGE_FN  unique -m chainer-fast-neuralstyle/models/$model.value -o output.jpg   --gpu 0 \n",
        "#          fig = plt.figure(figsize=(10, 10))\n",
        "#          img = plt.imread('output.jpg')\n",
        "#          plt.axis('off')          \n",
        "#          plt.imshow(img)\n",
        "#          files.download('output.jpg')\n",
        "# unir butão e funcão juntos usando um métodos no butão\n",
        "#button.on_click(on_button_clicked)\n",
        "# mostrar butão e sua saída juntos\n",
        "#widgets.VBox([button,out])\n",
        "\n",
        "\n",
        "\n",
        "\n"
      ],
      "execution_count": null,
      "outputs": []
    }
  ]
}